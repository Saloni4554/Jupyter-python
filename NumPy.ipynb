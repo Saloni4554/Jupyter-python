{
 "cells": [
  {
   "cell_type": "code",
   "execution_count": 1,
   "id": "a39cdf1b-ac70-4335-8e6e-b9e61986210b",
   "metadata": {},
   "outputs": [
    {
     "name": "stdout",
     "output_type": "stream",
     "text": [
      "Numpy\n"
     ]
    }
   ],
   "source": [
    "print(\"Numpy\")"
   ]
  },
  {
   "cell_type": "code",
   "execution_count": 2,
   "id": "d6d25295-955a-4e9c-8076-843024476210",
   "metadata": {},
   "outputs": [
    {
     "name": "stdout",
     "output_type": "stream",
     "text": [
      "1D array: [1 2 3 4 5]\n"
     ]
    }
   ],
   "source": [
    "import numpy as np\n",
    "array=np.array([1,2,3,4,5])\n",
    "print(\"1D array:\",array)"
   ]
  },
  {
   "cell_type": "code",
   "execution_count": 13,
   "id": "397da1b6-09e8-4287-824a-c9ffff621e4b",
   "metadata": {},
   "outputs": [
    {
     "name": "stdout",
     "output_type": "stream",
     "text": [
      "2D array:\n",
      " [[21  2  3]\n",
      " [ 4  5  6]]\n"
     ]
    }
   ],
   "source": [
    "#creating 2D array\n",
    "array_2d=np.array([[21,2,3],[4,5,6]]) #List of List\n",
    "print(\"2D array:\\n\",array_2d)"
   ]
  },
  {
   "cell_type": "code",
   "execution_count": 17,
   "id": "8f24d92a-ff1c-4c18-b35a-d7fc02ce0d89",
   "metadata": {},
   "outputs": [
    {
     "name": "stdout",
     "output_type": "stream",
     "text": [
      "Array of zeros:\n",
      " [[0. 0. 0. 0.]\n",
      " [0. 0. 0. 0.]\n",
      " [0. 0. 0. 0.]]\n"
     ]
    }
   ],
   "source": [
    "#creating a 2d array of zeros\n",
    "zeros_array=np.zeros((3,4)) # 3 rows AND 4 columns\n",
    "print(\"Array of zeros:\\n\",zeros_array)"
   ]
  },
  {
   "cell_type": "code",
   "execution_count": 19,
   "id": "13a70782-35c2-4b5f-9211-012017a330c9",
   "metadata": {},
   "outputs": [
    {
     "name": "stdout",
     "output_type": "stream",
     "text": [
      "Array of ones: [1. 1. 1. 1. 1.]\n"
     ]
    }
   ],
   "source": [
    "# creating a 1d array of one\n",
    "ones_array=np.ones(5)\n",
    "print(\"Array of ones:\",ones_array)"
   ]
  },
  {
   "cell_type": "code",
   "execution_count": 20,
   "id": "b79e6acd-d2c2-4cc3-8fca-ba280d44eea6",
   "metadata": {},
   "outputs": [
    {
     "name": "stdout",
     "output_type": "stream",
     "text": [
      "Range array: [0 1 2 3 4 5 6 7 8 9]\n"
     ]
    }
   ],
   "source": [
    "#Creating an array with value from 0to9\n",
    "range_array=np.arange(10)\n",
    "print(\"Range array:\",range_array)"
   ]
  },
  {
   "cell_type": "code",
   "execution_count": 21,
   "id": "38fe5af8-7b75-4444-82b7-55889dee5960",
   "metadata": {},
   "outputs": [
    {
     "name": "stdout",
     "output_type": "stream",
     "text": [
      "linespace_array: [0.   0.25 0.5  0.75 1.  ]\n"
     ]
    }
   ],
   "source": [
    "#creating an array with 5 evenly spaced values btn 0 and 1\n",
    "linespace_array=np.linspace(0,1,5) # start,end,nuumber of space btn 0 and 1\n",
    "print(\"linespace_array:\",linespace_array)"
   ]
  },
  {
   "cell_type": "code",
   "execution_count": 22,
   "id": "58904fe3-b6e4-4cfd-80c5-f4db25e12507",
   "metadata": {},
   "outputs": [
    {
     "name": "stdout",
     "output_type": "stream",
     "text": [
      "shape of array: (2, 3)\n",
      "size of array: 6\n"
     ]
    }
   ],
   "source": [
    "print(\"shape of array:\",array_2d.shape) #Gives number of rows and columns\n",
    "print(\"size of array:\",array_2d.size)"
   ]
  },
  {
   "cell_type": "code",
   "execution_count": 23,
   "id": "263af7c8-68ac-4573-8e24-8c8c6d56b1fd",
   "metadata": {},
   "outputs": [
    {
     "name": "stdout",
     "output_type": "stream",
     "text": [
      "Data type of array_2d int64\n"
     ]
    }
   ],
   "source": [
    "print(\"Data type of array_2d\",array_2d.dtype)"
   ]
  },
  {
   "cell_type": "code",
   "execution_count": 28,
   "id": "f91adff5-1ce4-4ba7-bf45-e6cb5fd5d818",
   "metadata": {},
   "outputs": [
    {
     "name": "stdout",
     "output_type": "stream",
     "text": [
      "Element at index 2: 30\n"
     ]
    }
   ],
   "source": [
    "#Indexing and slicing\n",
    "array_1d=np.array([10,20,30,40,50])\n",
    "print(\"Element at index 2:\",array_1d[2])\n"
   ]
  },
  {
   "cell_type": "code",
   "execution_count": 30,
   "id": "91d41454-9f9e-4dde-88b7-af0ad0c222f2",
   "metadata": {},
   "outputs": [
    {
     "name": "stdout",
     "output_type": "stream",
     "text": [
      "Element at last index: 50\n"
     ]
    }
   ],
   "source": [
    "print(\"Element at last index:\",array_1d[-1])"
   ]
  },
  {
   "cell_type": "code",
   "execution_count": 2,
   "id": "e28d097c-dc5b-49cc-907d-9cb270ac3d70",
   "metadata": {},
   "outputs": [
    {
     "ename": "NameError",
     "evalue": "name 'np' is not defined",
     "output_type": "error",
     "traceback": [
      "\u001b[31m---------------------------------------------------------------------------\u001b[39m",
      "\u001b[31mNameError\u001b[39m                                 Traceback (most recent call last)",
      "\u001b[36mCell\u001b[39m\u001b[36m \u001b[39m\u001b[32mIn[2]\u001b[39m\u001b[32m, line 1\u001b[39m\n\u001b[32m----> \u001b[39m\u001b[32m1\u001b[39m array_2d=\u001b[43mnp\u001b[49m.array([[\u001b[32m10\u001b[39m,\u001b[32m20\u001b[39m,\u001b[32m30\u001b[39m],[\u001b[32m40\u001b[39m,\u001b[32m50\u001b[39m,\u001b[32m60\u001b[39m]])\n\u001b[32m      2\u001b[39m \u001b[38;5;28mprint\u001b[39m(\u001b[33m\"\u001b[39m\u001b[33mElement at (0,2) :\u001b[39m\u001b[33m\"\u001b[39m,array_2d[\u001b[32m0\u001b[39m,\u001b[32m2\u001b[39m])\n\u001b[32m      3\u001b[39m \u001b[38;5;28mprint\u001b[39m(\u001b[33m\"\u001b[39m\u001b[33mElement at (01,2) :\u001b[39m\u001b[33m\"\u001b[39m,array_2d[\u001b[32m1\u001b[39m,\u001b[32m2\u001b[39m])\n",
      "\u001b[31mNameError\u001b[39m: name 'np' is not defined"
     ]
    }
   ],
   "source": [
    "array_2d=np.array([[10,20,30],[40,50,60]])\n",
    "print(\"Element at (0,2) :\",array_2d[0,2])\n",
    "print(\"Element at (01,2) :\",array_2d[1,2])"
   ]
  },
  {
   "cell_type": "code",
   "execution_count": 37,
   "id": "d5948bbc-3dd4-460a-8e5f-937b479f1bc4",
   "metadata": {},
   "outputs": [
    {
     "name": "stdout",
     "output_type": "stream",
     "text": [
      "Second row: [40 50 60]\n"
     ]
    }
   ],
   "source": [
    "print(\"Second row:\",array_2d[1])"
   ]
  },
  {
   "cell_type": "code",
   "execution_count": 38,
   "id": "ae070728-f03f-499a-9603-51be95083730",
   "metadata": {},
   "outputs": [
    {
     "name": "stdout",
     "output_type": "stream",
     "text": [
      "First column: [10 40]\n"
     ]
    }
   ],
   "source": [
    "print(\"First column:\",array_2d[:,0])"
   ]
  },
  {
   "cell_type": "code",
   "execution_count": 39,
   "id": "a41cc58a-853d-4e6a-8602-1a069c1b570e",
   "metadata": {},
   "outputs": [
    {
     "name": "stdout",
     "output_type": "stream",
     "text": [
      "second column: [20 50]\n"
     ]
    }
   ],
   "source": [
    "print(\"second column:\",array_2d[:,1])"
   ]
  },
  {
   "cell_type": "code",
   "execution_count": 40,
   "id": "ca0e27d2-5f04-4e32-87f3-19bfac60b2e1",
   "metadata": {},
   "outputs": [
    {
     "name": "stdout",
     "output_type": "stream",
     "text": [
      "Elements greater then 30: [40 50 60]\n"
     ]
    }
   ],
   "source": [
    "#Boolean indexing to select elements greater than 30\n",
    "boolean_index=array_2d[array_2d>30]\n",
    "print(\"Elements greater then 30:\",boolean_index)"
   ]
  },
  {
   "cell_type": "code",
   "execution_count": 1,
   "id": "2a8979c7-5e48-4dbf-96f0-a83dc81ed971",
   "metadata": {},
   "outputs": [
    {
     "ename": "NameError",
     "evalue": "name 'array_2d' is not defined",
     "output_type": "error",
     "traceback": [
      "\u001b[31m---------------------------------------------------------------------------\u001b[39m",
      "\u001b[31mNameError\u001b[39m                                 Traceback (most recent call last)",
      "\u001b[36mCell\u001b[39m\u001b[36m \u001b[39m\u001b[32mIn[1]\u001b[39m\u001b[32m, line 1\u001b[39m\n\u001b[32m----> \u001b[39m\u001b[32m1\u001b[39m \u001b[38;5;28mprint\u001b[39m(\u001b[33m\"\u001b[39m\u001b[33mElements at indices 0 and 2 of first row:\u001b[39m\u001b[33m\"\u001b[39m,\u001b[43marray_2d\u001b[49m[\u001b[32m0\u001b[39m,[\u001b[32m1\u001b[39m,\u001b[32m2\u001b[39m]])\n",
      "\u001b[31mNameError\u001b[39m: name 'array_2d' is not defined"
     ]
    }
   ],
   "source": [
    "print(\"Elements at indices 0 and 2 of first row:\",array_2d[0,[1,2]])"
   ]
  },
  {
   "cell_type": "code",
   "execution_count": 45,
   "id": "72474b44-2a07-492b-9b11-c07d6be98f2c",
   "metadata": {},
   "outputs": [
    {
     "name": "stdout",
     "output_type": "stream",
     "text": [
      "Sliced array: [20 30 40]\n"
     ]
    }
   ],
   "source": [
    "#Slicing\n",
    "slice_1d=array_1d[1:4]\n",
    "print(\"Sliced array:\",slice_1d)# print btn 1 and 3"
   ]
  },
  {
   "cell_type": "code",
   "execution_count": 46,
   "id": "6fdeed8b-15b8-4153-9a13-616dd26b50cd",
   "metadata": {},
   "outputs": [
    {
     "name": "stdout",
     "output_type": "stream",
     "text": [
      "sliced array: [10 30 50]\n"
     ]
    }
   ],
   "source": [
    "slice_step_1d=array_1d[0:5:2]\n",
    "print(\"sliced array:\", slice_step_1d)"
   ]
  },
  {
   "cell_type": "code",
   "execution_count": 49,
   "id": "a222e792-607f-4fb7-ba2d-60dbae1b065f",
   "metadata": {},
   "outputs": [
    {
     "name": "stdout",
     "output_type": "stream",
     "text": [
      "sliced 2d array: [[10 20]\n",
      " [40 50]]\n"
     ]
    }
   ],
   "source": [
    "array_2d=np.array([[10,20,30],[40,50,60],[70,80,90]])\n",
    "slice_2d=array_2d[:2,:2] #first check full length and then checks into the list\n",
    "print(\"sliced 2d array:\",slice_2d)"
   ]
  },
  {
   "cell_type": "code",
   "execution_count": 51,
   "id": "450c6f2e-056a-43ed-a86c-3de13da7d063",
   "metadata": {},
   "outputs": [
    {
     "name": "stdout",
     "output_type": "stream",
     "text": [
      "First two rows:\n",
      " [[10 20 30]\n",
      " [40 50 60]]\n",
      "Last cloumn:\n",
      " [30 60 90]\n"
     ]
    }
   ],
   "source": [
    "#slicing the first two row\n",
    "rows_2d=array_2d[:2]\n",
    "print(\"First two rows:\\n\",rows_2d)\n",
    "last_cloumn_2d=array_2d[:,-1]\n",
    "print(\"Last cloumn:\\n\",last_cloumn_2d)"
   ]
  }
 ],
 "metadata": {
  "kernelspec": {
   "display_name": "Python 3 (ipykernel)",
   "language": "python",
   "name": "python3"
  },
  "language_info": {
   "codemirror_mode": {
    "name": "ipython",
    "version": 3
   },
   "file_extension": ".py",
   "mimetype": "text/x-python",
   "name": "python",
   "nbconvert_exporter": "python",
   "pygments_lexer": "ipython3",
   "version": "3.12.6"
  }
 },
 "nbformat": 4,
 "nbformat_minor": 5
}
